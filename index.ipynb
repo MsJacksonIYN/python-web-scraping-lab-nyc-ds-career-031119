{
 "cells": [
  {
   "cell_type": "markdown",
   "metadata": {},
   "source": [
    "# Web Scraping Lab"
   ]
  },
  {
   "cell_type": "markdown",
   "metadata": {},
   "source": [
    "## Questions\n",
    "\n",
    "Resident Advisor is an events listing website for electronic music.\n",
    "\n",
    "Go to www.residentadvisor.net/events.  This is the url we'll be starting with for this lab.  For question 1, just use this url.  In the next two, you'll use country and region in the format: http://www.residentadvisor.net/country/region/ i.e. us/losangeles/.  Be sure to explore the web pages in both the browswer and the HTML file.  You'll need both to really understand what's going on.\n",
    "\n",
    "1. Which venues are hosting events this week?\n",
    "2. Make a function which returns the events this week given region and country (this will take two arguments)\n",
    "    - return the event name, link, and list of artists\n",
    "    - function returns list of ['event name', 'www.linkaddress.com', ['artist1','artist2','artist3']]\n",
    "3. Create a function which returns the users attending \n",
    "4. Bonus\n"
   ]
  },
  {
   "cell_type": "markdown",
   "metadata": {},
   "source": [
    "### Question 1 - Which venues are hosting events this week?"
   ]
  },
  {
   "cell_type": "code",
   "execution_count": 1,
   "metadata": {},
   "outputs": [],
   "source": [
    "import requests\n",
    "from bs4 import BeautifulSoup\n",
    "\n",
    "r = requests.get('https://www.residentadvisor.net/events')\n",
    "c = r.content\n",
    "soup = BeautifulSoup(c, 'html.parser')"
   ]
  },
  {
   "cell_type": "code",
   "execution_count": 2,
   "metadata": {},
   "outputs": [],
   "source": [
    "events =  soup.findAll('h1', {'class':\"event-title\"})"
   ]
  },
  {
   "cell_type": "code",
   "execution_count": 3,
   "metadata": {},
   "outputs": [
    {
     "data": {
      "text/plain": [
       "['Valley Arts Community Gallery']"
      ]
     },
     "execution_count": 3,
     "metadata": {},
     "output_type": "execute_result"
    }
   ],
   "source": [
    "venues = [a.find('span').get_text().replace('at ','') for a in events]\n",
    "venues"
   ]
  },
  {
   "cell_type": "markdown",
   "metadata": {},
   "source": [
    "Your solution output should look like: '101bklyn', '291 Hooper St', '99 Scott Ave','Alphaville', 'Analog Bkny'..."
   ]
  },
  {
   "cell_type": "markdown",
   "metadata": {},
   "source": [
    "### Question 2 - Write a function to which returns the events this week given region and country."
   ]
  },
  {
   "cell_type": "code",
   "execution_count": 6,
   "metadata": {},
   "outputs": [],
   "source": [
    "def cook_soup(country, region):\n",
    "    #build url for events in (inputs) country and region\n",
    "    url = 'http://www.residentadvisor.net/events/'+country.lower().replace(' ','')+'/'+region.lower().replace(' ','')\n",
    "    #get html from webpage \n",
    "    r = requests.get(url)\n",
    "    c = r.content\n",
    "    soup = BeautifulSoup(c, 'html.parser')\n",
    "    return soup"
   ]
  },
  {
   "cell_type": "code",
   "execution_count": 7,
   "metadata": {},
   "outputs": [],
   "source": [
    "def find_events(country, region):\n",
    "\n",
    "    soup = cook_soup(country, region)\n",
    "    \n",
    "    #instantiate full list.  Full list will be a list of lists.  Each event is a list [event name & venue, url, lineup].\n",
    "    full_list = []\n",
    "    #access each event in soup\n",
    "    for event in soup.find_all(class_='bbox'):\n",
    "        #instantiate event list within for loop so it will reset with each event\n",
    "        event_list = []\n",
    "        #find if event has label 'h1', since soup includes classes that include bbox, \n",
    "        #rather than only classes specifically named \"bbox\"\n",
    "        if event.find('h1'):\n",
    "            #append the text from 'h1', the event title and location, to the event_list \n",
    "            event_list.append(event.find('h1').get_text())\n",
    "            #append the url to event_list\n",
    "            event_list.append('https://www.residentadvisor.net'+event.find('h1').find('a').get('href'))\n",
    "            #some events don't have a lineup, so check for lineup \n",
    "            if event.find('div'):\n",
    "                #if a lineup is listed, append the lineup to event_list\n",
    "                event_list.append(event.find('div').get_text())\n",
    "            else:\n",
    "                #if no lineup, append \"no lineup\" to event_list\n",
    "                event_list.append('No Lineup')\n",
    "            #append event_list to full_list\n",
    "            full_list.append(event_list)\n",
    "\n",
    "    return full_list\n"
   ]
  },
  {
   "cell_type": "code",
   "execution_count": 8,
   "metadata": {},
   "outputs": [
    {
     "data": {
      "text/plain": [
       "['Foals DJ Set at Halcyon',\n",
       " 'https://www.residentadvisor.net/events/1230341',\n",
       " 'Foals']"
      ]
     },
     "execution_count": 8,
     "metadata": {},
     "output_type": "execute_result"
    }
   ],
   "source": [
    "# you should be able to output something like this\n",
    "find_events('us','sanfrancisco')[0]"
   ]
  },
  {
   "cell_type": "markdown",
   "metadata": {},
   "source": [
    "### Question 3 - Create a function which returns the numbers of users attending each event this week, given country and region.  Then plot a histogram"
   ]
  },
  {
   "cell_type": "code",
   "execution_count": 8,
   "metadata": {},
   "outputs": [],
   "source": [
    "def users_attending(country, region):\n",
    "    \n",
    "    soup = cook_soup(country, region)\n",
    "\n",
    "    #instantiate attendance. This will be a list of \n",
    "    attendance = []\n",
    "    \n",
    "    #access each event in soup\n",
    "    for event in soup.find_all(class_='bbox'):\n",
    "        #find if event has label 'h1', since soup includes classes that contain 'bbox', \n",
    "        #rather than only classes specifically named \"bbox\"\n",
    "        if event.find('h1'):\n",
    "            #not all events have attendance listed, so find attendance\n",
    "            if event.find('p'):\n",
    "                #if attendance is listed, append it to the attendance list\n",
    "                attendance.append(int(event.find('p').get_text().replace(' Attending','')))\n",
    "    return attendance \n",
    "    \n",
    "    \n",
    "    \n",
    "    \n",
    "    \n",
    "    "
   ]
  },
  {
   "cell_type": "code",
   "execution_count": 11,
   "metadata": {},
   "outputs": [
    {
     "data": {
      "text/plain": [
       "[8, 5, 4, 3, 49, 18, 10, 3, 2, 11]"
      ]
     },
     "execution_count": 11,
     "metadata": {},
     "output_type": "execute_result"
    }
   ],
   "source": [
    "# you should be able to output something like this\n",
    "users_attending('us','newyork')[:10]"
   ]
  },
  {
   "cell_type": "code",
   "execution_count": null,
   "metadata": {},
   "outputs": [],
   "source": [
    "#now use the function to make a histogram\n",
    "import plotly.offline as offline\n",
    "import plotly.graph_objs as go\n",
    "\n",
    "offline.init_notebook_mode()\n",
    "\n",
    "offline.iplot([go.Histogram(x = users_attending('jp','tokyo'))])"
   ]
  },
  {
   "cell_type": "markdown",
   "metadata": {},
   "source": [
    "## Bonus: Build object relations between artists, venues, and events with sqlalchemy!\n",
    "Think about what each table should include - URLs, dates, etc."
   ]
  },
  {
   "cell_type": "code",
   "execution_count": null,
   "metadata": {},
   "outputs": [],
   "source": []
  }
 ],
 "metadata": {
  "kernelspec": {
   "display_name": "Python 3",
   "language": "python",
   "name": "python3"
  },
  "language_info": {
   "codemirror_mode": {
    "name": "ipython",
    "version": 3
   },
   "file_extension": ".py",
   "mimetype": "text/x-python",
   "name": "python",
   "nbconvert_exporter": "python",
   "pygments_lexer": "ipython3",
   "version": "3.6.6"
  }
 },
 "nbformat": 4,
 "nbformat_minor": 2
}
